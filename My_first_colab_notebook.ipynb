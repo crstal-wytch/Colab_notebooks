{
  "nbformat": 4,
  "nbformat_minor": 0,
  "metadata": {
    "colab": {
      "provenance": [],
      "authorship_tag": "ABX9TyOAbTyp63tu//tGZfW4Cqoo",
      "include_colab_link": true
    },
    "kernelspec": {
      "name": "python3",
      "display_name": "Python 3"
    },
    "language_info": {
      "name": "python"
    }
  },
  "cells": [
    {
      "cell_type": "markdown",
      "metadata": {
        "id": "view-in-github",
        "colab_type": "text"
      },
      "source": [
        "<a href=\"https://colab.research.google.com/github/crstal-wytch/Colab_notebooks/blob/main/My_first_colab_notebook.ipynb\" target=\"_parent\"><img src=\"https://colab.research.google.com/assets/colab-badge.svg\" alt=\"Open In Colab\"/></a>"
      ]
    },
    {
      "cell_type": "markdown",
      "source": [
        "#My first colab notebook!"
      ],
      "metadata": {
        "id": "k8d5EZUvgFy3"
      }
    },
    {
      "cell_type": "code",
      "execution_count": 1,
      "metadata": {
        "colab": {
          "base_uri": "https://localhost:8080/"
        },
        "id": "Q5ixSQmfgE2K",
        "outputId": "7c8015ce-5a8e-4cfd-ba21-0c72cb2641e2"
      },
      "outputs": [
        {
          "output_type": "stream",
          "name": "stdout",
          "text": [
            "Hello world!\n"
          ]
        }
      ],
      "source": [
        "print(\"Hello world!\")"
      ]
    },
    {
      "cell_type": "code",
      "source": [
        "mylist = (1,2,3,4,5,6,7,8,9)\n",
        "print(mylist[3])"
      ],
      "metadata": {
        "colab": {
          "base_uri": "https://localhost:8080/"
        },
        "id": "HOfj_SNbgS8y",
        "outputId": "28b87308-02f3-47ad-bbb4-9715b817ed0a"
      },
      "execution_count": 2,
      "outputs": [
        {
          "output_type": "stream",
          "name": "stdout",
          "text": [
            "4\n"
          ]
        }
      ]
    },
    {
      "cell_type": "code",
      "source": [
        "x = 8\n",
        "if x > mylist[3]:\n",
        "  print(str(x)+\" is greater than \"+str(mylist[3]))\n",
        "else:\n",
        "  print(str(x)+\" is less than \"+str(mylist[3]))"
      ],
      "metadata": {
        "colab": {
          "base_uri": "https://localhost:8080/"
        },
        "id": "ICAfwGYTgS5a",
        "outputId": "c2887b81-3ce9-4936-d2c7-6a625fbd22c0"
      },
      "execution_count": 5,
      "outputs": [
        {
          "output_type": "stream",
          "name": "stdout",
          "text": [
            "8 is greater than 4\n"
          ]
        }
      ]
    },
    {
      "cell_type": "code",
      "source": [
        "for i in mylist:\n",
        "  print(i * 2)\n"
      ],
      "metadata": {
        "colab": {
          "base_uri": "https://localhost:8080/"
        },
        "id": "M6ug8Rt-gSxV",
        "outputId": "b19e61c5-d431-4080-d0d3-2544d2b848d9"
      },
      "execution_count": 6,
      "outputs": [
        {
          "output_type": "stream",
          "name": "stdout",
          "text": [
            "2\n",
            "4\n",
            "6\n",
            "8\n",
            "10\n",
            "12\n",
            "14\n",
            "16\n",
            "18\n"
          ]
        }
      ]
    },
    {
      "cell_type": "code",
      "source": [
        "i = 0\n",
        "while i < x:\n",
        "  print(str(i)+\" is less than \"+str(x))\n",
        "  i += 1"
      ],
      "metadata": {
        "colab": {
          "base_uri": "https://localhost:8080/"
        },
        "id": "h8oITw2JgSfL",
        "outputId": "edb7f580-0a12-4bef-961d-21cdcbbdfa8f"
      },
      "execution_count": 8,
      "outputs": [
        {
          "output_type": "stream",
          "name": "stdout",
          "text": [
            "0 is less than 8\n",
            "1 is less than 8\n",
            "2 is less than 8\n",
            "3 is less than 8\n",
            "4 is less than 8\n",
            "5 is less than 8\n",
            "6 is less than 8\n",
            "7 is less than 8\n"
          ]
        }
      ]
    }
  ]
}